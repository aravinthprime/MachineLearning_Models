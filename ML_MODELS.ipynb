{
  "nbformat": 4,
  "nbformat_minor": 0,
  "metadata": {
    "colab": {
      "name": "ML_MODELS.ipynb",
      "provenance": [],
      "collapsed_sections": []
    },
    "kernelspec": {
      "name": "python3",
      "display_name": "Python 3"
    },
    "language_info": {
      "name": "python"
    }
  },
  "cells": [
    {
      "cell_type": "markdown",
      "source": [
        "ML_MODELS"
      ],
      "metadata": {
        "id": "duhO_odG_gTb"
      }
    },
    {
      "cell_type": "code",
      "execution_count": null,
      "metadata": {
        "colab": {
          "base_uri": "https://localhost:8080/"
        },
        "id": "bwjzKZW0-B4m",
        "outputId": "22e2edff-a6ca-4b8a-d1f5-52e2d54c5e6d"
      },
      "outputs": [
        {
          "output_type": "stream",
          "name": "stdout",
          "text": [
            "Looking in indexes: https://pypi.org/simple, https://us-python.pkg.dev/colab-wheels/public/simple/\n",
            "Requirement already satisfied: sklearn in /usr/local/lib/python3.7/dist-packages (0.0)\n",
            "Requirement already satisfied: scikit-learn in /usr/local/lib/python3.7/dist-packages (from sklearn) (1.0.2)\n",
            "Requirement already satisfied: scipy>=1.1.0 in /usr/local/lib/python3.7/dist-packages (from scikit-learn->sklearn) (1.7.3)\n",
            "Requirement already satisfied: numpy>=1.14.6 in /usr/local/lib/python3.7/dist-packages (from scikit-learn->sklearn) (1.21.6)\n",
            "Requirement already satisfied: threadpoolctl>=2.0.0 in /usr/local/lib/python3.7/dist-packages (from scikit-learn->sklearn) (3.1.0)\n",
            "Requirement already satisfied: joblib>=0.11 in /usr/local/lib/python3.7/dist-packages (from scikit-learn->sklearn) (1.1.0)\n"
          ]
        }
      ],
      "source": [
        "pip install sklearn"
      ]
    },
    {
      "cell_type": "markdown",
      "source": [
        "#LINEAR REGRESSION"
      ],
      "metadata": {
        "id": "K3hUIKNJ-jZS"
      }
    },
    {
      "cell_type": "code",
      "source": [
        "from sklearn.linear_model import LinearRegression\n",
        "model=LinearRegression()\n",
        "model.fit(x,y)\n",
        "y_pred= model.predict(x_test)\n",
        "model.score(x_train, y_train)\n",
        "print('Coefficient: \\n', model.coef_) \n",
        "print('Intercept: \\n', model.intercept_) \n",
        "\n"
      ],
      "metadata": {
        "id": "3AMAQcBO-TjB"
      },
      "execution_count": null,
      "outputs": []
    },
    {
      "cell_type": "markdown",
      "source": [
        "#LOGISTIC REGRESSION"
      ],
      "metadata": {
        "id": "s17VZotUA1sX"
      }
    },
    {
      "cell_type": "code",
      "source": [
        "from sklearn.linear_model import LogisticRegression\n",
        "model=LogisticRegression()\n",
        "model.fit(x_train,y_train)\n",
        "y_pred= model.predict(x_test)\n",
        "model.score(x_train, y_train)\n",
        "print('Coefficient: \\n', model.coef_) \n",
        "print('Intercept: \\n', model.intercept_) \n",
        "\n"
      ],
      "metadata": {
        "id": "Qo1rHPNT-1XK"
      },
      "execution_count": null,
      "outputs": []
    },
    {
      "cell_type": "markdown",
      "source": [
        "#K-NEAREST NEIGHBOUR"
      ],
      "metadata": {
        "id": "X0RxqUbLBEJq"
      }
    },
    {
      "cell_type": "code",
      "source": [
        "from sklearn.neighbors import KNeighborsClassifier\n",
        "model=KNeighborsClassifier()\n",
        "model.fit(x_train,y_train)\n",
        "y_pred= model.predict(x_test)\n"
      ],
      "metadata": {
        "id": "1R4m5F6cBVOc"
      },
      "execution_count": null,
      "outputs": []
    },
    {
      "cell_type": "markdown",
      "source": [
        "#SVM"
      ],
      "metadata": {
        "id": "Naav9hQzD_RQ"
      }
    },
    {
      "cell_type": "code",
      "source": [
        "from sklearn.svm import SVC\n",
        "model=SVC()\n",
        "model.fit(x_train,y_train)\n",
        "y_pred= model.predict(x_test)\n"
      ],
      "metadata": {
        "id": "-T1Lgq35EABc"
      },
      "execution_count": null,
      "outputs": []
    },
    {
      "cell_type": "markdown",
      "source": [
        "#DECISION TREE(CART)"
      ],
      "metadata": {
        "id": "V0gqMixLEEl_"
      }
    },
    {
      "cell_type": "code",
      "source": [
        "from sklearn.tree import DecisionTreeRegressor\n",
        "model=DecisionTreeRegressor()\n",
        "model.fit(x_train,y_train)\n",
        "y_pred= model.predict(x_test)"
      ],
      "metadata": {
        "id": "_EJRWt8REJDB"
      },
      "execution_count": null,
      "outputs": []
    },
    {
      "cell_type": "markdown",
      "source": [
        "#NAIVE BAYES"
      ],
      "metadata": {
        "id": "9Q1kNx1uO8o9"
      }
    },
    {
      "cell_type": "code",
      "source": [
        "from sklearn.naive_bayes import GaussianNB\n",
        "model=GaussianNB()\n",
        "model.fit(x_train,y_train)\n",
        "y_pred= model.predict(x_test)"
      ],
      "metadata": {
        "id": "IzJBjhWrOi4W"
      },
      "execution_count": null,
      "outputs": []
    },
    {
      "cell_type": "markdown",
      "source": [
        "#K-MEANS"
      ],
      "metadata": {
        "id": "9tDZBriRQG1N"
      }
    },
    {
      "cell_type": "code",
      "source": [
        "from sklearn.cluster import KMeans\n",
        "model=KMeans(n_clusters=3,random_state=0)\n",
        "model.fit(x_train)#has no y variable\n",
        "y_pred= model.predict(x_test)"
      ],
      "metadata": {
        "id": "JMiAe7UTQJtG"
      },
      "execution_count": null,
      "outputs": []
    },
    {
      "cell_type": "markdown",
      "source": [
        "#RANDOM FOREST"
      ],
      "metadata": {
        "id": "SwmmooAbRCQm"
      }
    },
    {
      "cell_type": "code",
      "source": [
        "from sklearn.ensemble import RandomForestClassifier\n",
        "model=RandomForestClassifier()\n",
        "model.fit(x_train,y_train)\n",
        "y_pred= model.predict(x_test)"
      ],
      "metadata": {
        "id": "BuzBPEa5RJ3f"
      },
      "execution_count": null,
      "outputs": []
    },
    {
      "cell_type": "markdown",
      "source": [
        "#DIMENTIONALITY REDUCTION (PCA)"
      ],
      "metadata": {
        "id": "QkDQhSvbRjBz"
      }
    },
    {
      "cell_type": "code",
      "source": [
        "from sklearn.decomposition import PCA\n",
        "#Assumed you have training and test data set as train and test\n",
        "\n",
        "#Create PCA object pca- decomposition.PCA(n_components-k) #default value of k min(n_sample, n_features)\n",
        "pca=PCA()\n",
        "#fa decomposition. FactorAnalysis() #Reduced the dimension of training dataset using PCA\n",
        "\n",
        "train_reduced=pca.fit_transform(train)\n",
        "#Reduced the dimension of est dataset\n",
        "\n",
        "test_reduced=pca.transform(test)"
      ],
      "metadata": {
        "id": "YvjxbZz6RrJ1"
      },
      "execution_count": null,
      "outputs": []
    },
    {
      "cell_type": "markdown",
      "source": [
        "#GRADIEND BOOSTING CLASSIFIER"
      ],
      "metadata": {
        "id": "HqSm1oKsULOr"
      }
    },
    {
      "cell_type": "code",
      "source": [
        "from sklearn.ensemble import GradientBoostingClassifier\n",
        " #Assumed you have, X (predictor) and Y (target) for #training data set and x_test(predictor) of test_dataset #Create Gradient Boosting Classifier object \n",
        "model=GradientBoostingClassifier (n_estimators=100, learning_rate=1.0, max_depth=1, random_state=0) #Train the model using the training sets and check score \n",
        "model.fit(x, y)\n",
        "#Predict Output\n",
        "predicted= model.predict(x_test)"
      ],
      "metadata": {
        "id": "YpDn76vxR1-M"
      },
      "execution_count": null,
      "outputs": []
    }
  ]
}